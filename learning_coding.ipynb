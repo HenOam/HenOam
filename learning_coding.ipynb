{
  "nbformat": 4,
  "nbformat_minor": 0,
  "metadata": {
    "colab": {
      "provenance": [],
      "authorship_tag": "ABX9TyO4s06ZvmYHETp0c/adZfdg",
      "include_colab_link": true
    },
    "kernelspec": {
      "name": "python3",
      "display_name": "Python 3"
    },
    "language_info": {
      "name": "python"
    }
  },
  "cells": [
    {
      "cell_type": "markdown",
      "metadata": {
        "id": "view-in-github",
        "colab_type": "text"
      },
      "source": [
        "<a href=\"https://colab.research.google.com/github/HenOam/HenOam/blob/main/learning_coding.ipynb\" target=\"_parent\"><img src=\"https://colab.research.google.com/assets/colab-badge.svg\" alt=\"Open In Colab\"/></a>"
      ]
    },
    {
      "cell_type": "code",
      "execution_count": null,
      "metadata": {
        "id": "8fi6dnHrdeIV"
      },
      "outputs": [],
      "source": []
    },
    {
      "cell_type": "markdown",
      "source": [
        "#learning to code is fun\n",
        "##I will plan to keep this up\n",
        "**henry**"
      ],
      "metadata": {
        "id": "emG_vTDHeEOI"
      }
    },
    {
      "cell_type": "code",
      "source": [
        "weight_lbs = int(input('What is your weight? '))\n",
        "print(weight_lbs)\n",
        "if weight_lbs < 65:\n",
        "  print(\"too light\")\n",
        "else:\n",
        "  print(\"cool\")\n",
        "\n",
        "weight_kg = weight_lbs*0.45\n",
        "print(weight_kg)"
      ],
      "metadata": {
        "colab": {
          "base_uri": "https://localhost:8080/"
        },
        "id": "Nw6sjOyaeOg_",
        "outputId": "d37a0461-eb3f-407b-ca53-0ce514a3603b"
      },
      "execution_count": 11,
      "outputs": [
        {
          "output_type": "stream",
          "name": "stdout",
          "text": [
            "What is your weight? 65\n",
            "65\n",
            "cool\n",
            "29.25\n"
          ]
        }
      ]
    },
    {
      "cell_type": "markdown",
      "source": [
        "#strings\n",
        "##you are allowed to use either single or double quotation marks"
      ],
      "metadata": {
        "id": "iqIXLGlmigaB"
      }
    },
    {
      "cell_type": "code",
      "source": [
        "name = \"ada lovelace\"\n",
        "print(name.title())\n",
        "print(name.upper())"
      ],
      "metadata": {
        "colab": {
          "base_uri": "https://localhost:8080/"
        },
        "id": "VCOPIKDsifxw",
        "outputId": "cb5042e5-e785-4b8e-8845-3c8b151de064"
      },
      "execution_count": 15,
      "outputs": [
        {
          "output_type": "stream",
          "name": "stdout",
          "text": [
            "Ada Lovelace\n",
            "ADA LOVELACE\n"
          ]
        }
      ]
    },
    {
      "cell_type": "markdown",
      "source": [
        "##concatenation"
      ],
      "metadata": {
        "id": "ZKSTGd7PlOLS"
      }
    },
    {
      "cell_type": "code",
      "source": [
        "first_name = \"ada\"\n",
        "surname = \"lovelace\"\n",
        "full_name = (first_name + \" \" + surname)\n",
        "message = print(\"hello, \" + full_name.title() + \"!\")"
      ],
      "metadata": {
        "colab": {
          "base_uri": "https://localhost:8080/"
        },
        "id": "fF1OOZG4lLSq",
        "outputId": "c9c66d63-00de-482f-d5dd-42601a02847b"
      },
      "execution_count": 23,
      "outputs": [
        {
          "output_type": "stream",
          "name": "stdout",
          "text": [
            "hello, Ada Lovelace!\n"
          ]
        }
      ]
    },
    {
      "cell_type": "markdown",
      "source": [
        "#whitespaces, tabs and new lines\n",
        "##whitespace refers to any nonprinting character, such as spaces, tabs, and end-of-line symbols.\n",
        "#\\t for tab\n",
        "#\\n for new line\n",
        "#rstrip(), lstrip() and strip() for removing whitespace from right, left and both sides\n",
        "\n"
      ],
      "metadata": {
        "id": "69x3H3uonBl9"
      }
    },
    {
      "cell_type": "code",
      "source": [],
      "metadata": {
        "id": "6Q_ZWKVcnIF3"
      },
      "execution_count": null,
      "outputs": []
    },
    {
      "cell_type": "code",
      "source": [
        "print(\"Manchester\\n\\tExeter\\n\\tBenin\")"
      ],
      "metadata": {
        "colab": {
          "base_uri": "https://localhost:8080/"
        },
        "id": "OYZ0Z9SQnYBG",
        "outputId": "e9bdefe2-5e1a-4867-a93f-58c8d7517153"
      },
      "execution_count": 25,
      "outputs": [
        {
          "output_type": "stream",
          "name": "stdout",
          "text": [
            "Manchester\n",
            "\tExeter\n",
            "\tBenin\n"
          ]
        }
      ]
    },
    {
      "cell_type": "code",
      "source": [
        "favourite_language = \" python\"\n",
        "favourite_language.lstrip()\n",
        "print(favourite_language)\n",
        "\n",
        "favourite_language = \"python \"\n",
        "favourite_language.rstrip\n",
        "print(favourite_language)\n",
        "\n",
        "favourite_language = \" python \"\n",
        "favourite_language.strip()\n",
        "print(favourite_language)\n",
        "\n",
        "\n"
      ],
      "metadata": {
        "colab": {
          "base_uri": "https://localhost:8080/"
        },
        "id": "y1N9lDLao_y6",
        "outputId": "0d9fdf67-ccb3-4543-faf8-2f8b99d1313e"
      },
      "execution_count": 26,
      "outputs": [
        {
          "output_type": "stream",
          "name": "stdout",
          "text": [
            " python\n",
            "python \n",
            " python \n"
          ]
        }
      ]
    },
    {
      "cell_type": "markdown",
      "source": [
        "#the Zen of python"
      ],
      "metadata": {
        "id": "z0wn6dscws7I"
      }
    },
    {
      "cell_type": "code",
      "source": [
        "import this"
      ],
      "metadata": {
        "colab": {
          "base_uri": "https://localhost:8080/"
        },
        "id": "bKfCHqXKwvyx",
        "outputId": "c3a8602f-7a2c-4cbc-f23c-33d575dd7984"
      },
      "execution_count": 29,
      "outputs": [
        {
          "output_type": "stream",
          "name": "stdout",
          "text": [
            "The Zen of Python, by Tim Peters\n",
            "\n",
            "Beautiful is better than ugly.\n",
            "Explicit is better than implicit.\n",
            "Simple is better than complex.\n",
            "Complex is better than complicated.\n",
            "Flat is better than nested.\n",
            "Sparse is better than dense.\n",
            "Readability counts.\n",
            "Special cases aren't special enough to break the rules.\n",
            "Although practicality beats purity.\n",
            "Errors should never pass silently.\n",
            "Unless explicitly silenced.\n",
            "In the face of ambiguity, refuse the temptation to guess.\n",
            "There should be one-- and preferably only one --obvious way to do it.\n",
            "Although that way may not be obvious at first unless you're Dutch.\n",
            "Now is better than never.\n",
            "Although never is often better than *right* now.\n",
            "If the implementation is hard to explain, it's a bad idea.\n",
            "If the implementation is easy to explain, it may be a good idea.\n",
            "Namespaces are one honking great idea -- let's do more of those!\n"
          ]
        }
      ]
    },
    {
      "cell_type": "markdown",
      "source": [
        "#lists"
      ],
      "metadata": {
        "id": "Gttb66stx4gI"
      }
    },
    {
      "cell_type": "code",
      "source": [
        "cars = ['mercedes', 'kia', 'honda', 'nissan', 'jagua', 'toyota', 'renaut']\n",
        "print(cars[1].title())"
      ],
      "metadata": {
        "colab": {
          "base_uri": "https://localhost:8080/"
        },
        "id": "UDjrg4ivx6Dw",
        "outputId": "45acc823-ed11-467d-9421-31a1d47f1580"
      },
      "execution_count": 25,
      "outputs": [
        {
          "output_type": "stream",
          "name": "stdout",
          "text": [
            "Kia\n"
          ]
        }
      ]
    },
    {
      "cell_type": "markdown",
      "source": [
        "##adding items to lists"
      ],
      "metadata": {
        "id": "2jCOCJfp1FBY"
      }
    },
    {
      "cell_type": "code",
      "source": [
        "#append method adds items to the end of a list\n",
        "cars.append('suzuki')\n",
        "print(cars)"
      ],
      "metadata": {
        "colab": {
          "base_uri": "https://localhost:8080/"
        },
        "id": "bZdO4APM0xxO",
        "outputId": "0831f6fd-ce69-48cf-d178-96c655f9eae5"
      },
      "execution_count": 42,
      "outputs": [
        {
          "output_type": "stream",
          "name": "stdout",
          "text": [
            "['mercedes', 'kia', 'honda', 'nissan', 'jagua', 'toyota', 'renaut', 'suzuki', 'suzuki']\n"
          ]
        }
      ]
    },
    {
      "cell_type": "code",
      "source": [
        "# the insert method can be used to add items to specific positions within a list\n",
        "\n",
        "cars.insert(0, \"volvo\")\n",
        "print(cars)"
      ],
      "metadata": {
        "colab": {
          "base_uri": "https://localhost:8080/"
        },
        "id": "3oFm8lIV2MbL",
        "outputId": "e5580271-ba48-4ae3-867c-621d25214b75"
      },
      "execution_count": 46,
      "outputs": [
        {
          "output_type": "stream",
          "name": "stdout",
          "text": [
            "['volvo', 'mercedes', 'mercedes', 'fiat', 'kia', 'honda', 'nissan', 'jagua', 'toyota', 'renaut', 'suzuki', 'suzuki']\n"
          ]
        }
      ]
    },
    {
      "cell_type": "markdown",
      "source": [],
      "metadata": {
        "id": "4lPIJa3I2Jl-"
      }
    },
    {
      "cell_type": "code",
      "source": [
        "#an item can be added to replace an existing item in a list\n",
        "#python is zero based and as such the first item in the list is given the position zero, while the last item in the list can also be given the -1 position\n",
        "cars[0] = \"fiat\"\n",
        "print(cars)"
      ],
      "metadata": {
        "colab": {
          "base_uri": "https://localhost:8080/"
        },
        "id": "cUvVViwQ1Qzb",
        "outputId": "27e54620-aec0-4abb-f11c-50b12d37f91b"
      },
      "execution_count": 48,
      "outputs": [
        {
          "output_type": "stream",
          "name": "stdout",
          "text": [
            "['fiat', 'mercedes', 'mercedes', 'fiat', 'honda', 'nissan', 'jagua', 'toyota', 'renaut', 'suzuki', 'suzuki']\n"
          ]
        }
      ]
    },
    {
      "cell_type": "markdown",
      "source": [
        "#removing items from a list using the del function"
      ],
      "metadata": {
        "id": "nDSj0Q1i130w"
      }
    },
    {
      "cell_type": "code",
      "source": [
        "del cars[4]\n",
        "print(cars)"
      ],
      "metadata": {
        "colab": {
          "base_uri": "https://localhost:8080/"
        },
        "id": "uziV-7d01D5n",
        "outputId": "af32d5a2-1200-463c-b8fc-b86f7a363d0f"
      },
      "execution_count": 49,
      "outputs": [
        {
          "output_type": "stream",
          "name": "stdout",
          "text": [
            "['fiat', 'mercedes', 'mercedes', 'fiat', 'nissan', 'jagua', 'toyota', 'renaut', 'suzuki', 'suzuki']\n"
          ]
        }
      ]
    },
    {
      "cell_type": "markdown",
      "source": [
        "*the use of the pop method*"
      ],
      "metadata": {
        "id": "XIqFvIaI40gC"
      }
    },
    {
      "cell_type": "code",
      "source": [
        "# the pop method helps to retrieve and reuse the value\n",
        "last_car_owned = cars.pop()\n",
        "print(\"the last car I owned was a \" + last_car_owned)"
      ],
      "metadata": {
        "colab": {
          "base_uri": "https://localhost:8080/"
        },
        "id": "2ceSxiD04znP",
        "outputId": "ed64e25d-2787-4e4f-a6f6-984cdc80e850"
      },
      "execution_count": 54,
      "outputs": [
        {
          "output_type": "stream",
          "name": "stdout",
          "text": [
            "the last car I owned was a suzuki\n"
          ]
        }
      ]
    },
    {
      "cell_type": "code",
      "source": [
        "print(cars)"
      ],
      "metadata": {
        "colab": {
          "base_uri": "https://localhost:8080/"
        },
        "id": "_oRLbHHw62_Q",
        "outputId": "c77ca6c1-766c-4878-8587-e7cb100cef68"
      },
      "execution_count": 55,
      "outputs": [
        {
          "output_type": "stream",
          "name": "stdout",
          "text": [
            "['mercedes', 'mercedes', 'fiat', 'nissan', 'jagua', 'toyota', 'renaut']\n"
          ]
        }
      ]
    },
    {
      "cell_type": "code",
      "source": [
        "# items can also be popped from specific positions in a list\n",
        "first_car_owned = cars.pop(0)\n",
        "print(\"my first car was a \" + first_car_owned)"
      ],
      "metadata": {
        "colab": {
          "base_uri": "https://localhost:8080/"
        },
        "id": "MSNLFWyc6Oc3",
        "outputId": "78ef31a5-8300-4a3b-a1b2-6ec184e9d90c"
      },
      "execution_count": 51,
      "outputs": [
        {
          "output_type": "stream",
          "name": "stdout",
          "text": [
            "my first car was a fiat\n"
          ]
        }
      ]
    },
    {
      "cell_type": "code",
      "source": [
        "print(cars)"
      ],
      "metadata": {
        "colab": {
          "base_uri": "https://localhost:8080/"
        },
        "id": "QZ9PL9bu6m3d",
        "outputId": "03f2d17c-c7be-434f-c0f0-9b5098623834"
      },
      "execution_count": 16,
      "outputs": [
        {
          "output_type": "stream",
          "name": "stdout",
          "text": [
            "['honda', 'nissan', 'jagua', 'toyota', 'renaut']\n"
          ]
        }
      ]
    },
    {
      "cell_type": "markdown",
      "source": [
        "#removing an item from a list with remove method"
      ],
      "metadata": {
        "id": "P5JrwkfM8CCo"
      }
    },
    {
      "cell_type": "code",
      "source": [
        "cars.remove(\"kia\")\n",
        "print(cars)"
      ],
      "metadata": {
        "colab": {
          "base_uri": "https://localhost:8080/"
        },
        "id": "T7xOc1Nm8Ipd",
        "outputId": "ea2f277a-5aaa-47fe-e155-cdf167cef394"
      },
      "execution_count": 26,
      "outputs": [
        {
          "output_type": "stream",
          "name": "stdout",
          "text": [
            "['mercedes', 'honda', 'nissan', 'jagua', 'toyota', 'renaut']\n"
          ]
        }
      ]
    },
    {
      "cell_type": "code",
      "source": [
        "# an item in a list can be assigned to a variable and then the variable removed from the list\n",
        "too_expensive = 'jagua'\n",
        "cars.remove(too_expensive)\n",
        "print(cars)\n",
        "print('n\\A ' + too_expensive.title() + ' was too expensive for me')"
      ],
      "metadata": {
        "colab": {
          "base_uri": "https://localhost:8080/"
        },
        "id": "4O-pM8kR8PfJ",
        "outputId": "942869eb-cd6f-4ae2-b37f-6b9786c62bec"
      },
      "execution_count": 27,
      "outputs": [
        {
          "output_type": "stream",
          "name": "stdout",
          "text": [
            "['mercedes', 'honda', 'nissan', 'toyota', 'renaut']\n",
            "n\\A Jagua was too expensive for me\n"
          ]
        }
      ]
    },
    {
      "cell_type": "markdown",
      "source": [
        "#Tuples"
      ],
      "metadata": {
        "id": "j9L4cIU4DhoY"
      }
    },
    {
      "cell_type": "code",
      "source": [
        "# tuples are immutable.\n",
        "\"\"\"\"\"\"\n",
        "Create an empty tuple\n",
        "Create a tuple containing names of your sisters and your brothers (imaginary siblings are fine)\n",
        "Join brothers and sisters tuples and assign it to siblings\n",
        "How many siblings do you have?\n",
        "Modify the siblings tuple and add the name of your father and mother and assign it to family_members\n",
        "\"\"\"\"\"\""
      ],
      "metadata": {
        "id": "sII8rEIUDmvI"
      },
      "execution_count": null,
      "outputs": []
    },
    {
      "cell_type": "code",
      "source": [
        "sisters = ('feli', 'mercy', 'meg', 'peg')\n",
        "brothers = ('lucky', 'jay', 'henry')\n",
        "siblings = sisters + brothers\n",
        "print(siblings)\n",
        "len(siblings)"
      ],
      "metadata": {
        "id": "nHogz4JHD2NI"
      },
      "execution_count": null,
      "outputs": []
    },
    {
      "cell_type": "code",
      "source": [
        "parents = ('paul', 'agnes')\n",
        "family_members = siblings + parents\n",
        "print(family_members)"
      ],
      "metadata": {
        "id": "9EqkLokED6QK"
      },
      "execution_count": null,
      "outputs": []
    },
    {
      "cell_type": "code",
      "source": [
        "# Create fruits, vegetables and animal products tuples. Join the three tuples and assign it to a variable called food_stuff_tp.\n",
        "#Change the about food_stuff_tp tuple to a food_stuff_lt list\n",
        "\n",
        "fruits = ('apple', 'banana', 'orange', 'lemon', 'watermelon', 'strawberry')\n",
        "vegetables = ('brocoli', 'cabbage', 'pasnip', 'leek')\n",
        "animal_products = ('milk', 'cheese', 'meat', 'ham')\n",
        "food_stuff_tp = fruits + vegetables + animal_products"
      ],
      "metadata": {
        "id": "yUjLQlZADFyj"
      },
      "execution_count": 28,
      "outputs": []
    },
    {
      "cell_type": "code",
      "source": [
        "food_stuff_lt = list(food_stuff_tp)"
      ],
      "metadata": {
        "id": "WlL9TTjSDHFm"
      },
      "execution_count": 30,
      "outputs": []
    },
    {
      "cell_type": "code",
      "source": [
        "print(food_stuff_lt)"
      ],
      "metadata": {
        "colab": {
          "base_uri": "https://localhost:8080/"
        },
        "id": "kufL-vLqEqC8",
        "outputId": "2c2352d5-330d-4251-8e1e-cca9f6697598"
      },
      "execution_count": 31,
      "outputs": [
        {
          "output_type": "stream",
          "name": "stdout",
          "text": [
            "['apple', 'banana', 'orange', 'lemon', 'watermelon', 'strawberry', 'brocoli', 'cabbage', 'pasnip', 'leek', 'milk', 'cheese', 'meat', 'ham']\n"
          ]
        }
      ]
    },
    {
      "cell_type": "code",
      "source": [
        "# Slice out the middle item or items from the food_stuff_tp tuple or food_stuff_lt list.\n",
        "len(food_stuff_lt)\n",
        "food_stuff_lt[6:8]"
      ],
      "metadata": {
        "colab": {
          "base_uri": "https://localhost:8080/"
        },
        "id": "dO5o7m7_EkdC",
        "outputId": "6e5db29f-399c-4f69-d536-60337d1d2bb8"
      },
      "execution_count": 33,
      "outputs": [
        {
          "output_type": "execute_result",
          "data": {
            "text/plain": [
              "['brocoli', 'cabbage']"
            ]
          },
          "metadata": {},
          "execution_count": 33
        }
      ]
    },
    {
      "cell_type": "code",
      "source": [
        "# Slice out the first three items\n",
        "food_stuff_lt[0:3]\n"
      ],
      "metadata": {
        "colab": {
          "base_uri": "https://localhost:8080/"
        },
        "id": "UfFYbrGlFDN3",
        "outputId": "ff9db35f-ead3-4ff1-fe0c-15b8006f6eb3"
      },
      "execution_count": 35,
      "outputs": [
        {
          "output_type": "execute_result",
          "data": {
            "text/plain": [
              "['apple', 'banana', 'orange']"
            ]
          },
          "metadata": {},
          "execution_count": 35
        }
      ]
    },
    {
      "cell_type": "code",
      "source": [
        "# the last three items from food_staff_lt list\n",
        "food_stuff_lt[-3:]\n"
      ],
      "metadata": {
        "colab": {
          "base_uri": "https://localhost:8080/"
        },
        "id": "2lcmANVCFWod",
        "outputId": "2b6cba81-ca38-47b1-a498-265fe722715f"
      },
      "execution_count": 44,
      "outputs": [
        {
          "output_type": "execute_result",
          "data": {
            "text/plain": [
              "['cheese', 'meat', 'ham']"
            ]
          },
          "metadata": {},
          "execution_count": 44
        }
      ]
    },
    {
      "cell_type": "code",
      "source": [
        "# Delete the food_staff_tp tuple completely\n",
        "del food_stuff_tp\n",
        "print(food_stuff_tp)"
      ],
      "metadata": {
        "colab": {
          "base_uri": "https://localhost:8080/",
          "height": 180
        },
        "id": "I20z__HiGr15",
        "outputId": "2b0d7b0c-023c-41ff-f594-ba1586d0c6fe"
      },
      "execution_count": 46,
      "outputs": [
        {
          "output_type": "error",
          "ename": "NameError",
          "evalue": "name 'food_stuff_tp' is not defined",
          "traceback": [
            "\u001b[0;31m---------------------------------------------------------------------------\u001b[0m",
            "\u001b[0;31mNameError\u001b[0m                                 Traceback (most recent call last)",
            "\u001b[0;32m<ipython-input-46-1bcb812f075f>\u001b[0m in \u001b[0;36m<cell line: 2>\u001b[0;34m()\u001b[0m\n\u001b[1;32m      1\u001b[0m \u001b[0;31m# Delete the food_staff_tp tuple completely\u001b[0m\u001b[0;34m\u001b[0m\u001b[0;34m\u001b[0m\u001b[0m\n\u001b[0;32m----> 2\u001b[0;31m \u001b[0;32mdel\u001b[0m \u001b[0mfood_stuff_tp\u001b[0m\u001b[0;34m\u001b[0m\u001b[0;34m\u001b[0m\u001b[0m\n\u001b[0m\u001b[1;32m      3\u001b[0m \u001b[0mprint\u001b[0m\u001b[0;34m(\u001b[0m\u001b[0mfood_stuff_tp\u001b[0m\u001b[0;34m)\u001b[0m\u001b[0;34m\u001b[0m\u001b[0;34m\u001b[0m\u001b[0m\n",
            "\u001b[0;31mNameError\u001b[0m: name 'food_stuff_tp' is not defined"
          ]
        }
      ]
    },
    {
      "cell_type": "code",
      "source": [
        "# to check if an item exists in the tuple\n",
        "'cheese' in food_stuff_lt"
      ],
      "metadata": {
        "colab": {
          "base_uri": "https://localhost:8080/"
        },
        "id": "N_Ob3urVHB9p",
        "outputId": "0b72965b-dbc1-4010-ba48-32409d68c671"
      },
      "execution_count": 47,
      "outputs": [
        {
          "output_type": "execute_result",
          "data": {
            "text/plain": [
              "True"
            ]
          },
          "metadata": {},
          "execution_count": 47
        }
      ]
    },
    {
      "cell_type": "code",
      "source": [
        "nordic_countries = ('Denmark', 'Finland','Iceland', 'Norway', 'Sweden')\n",
        "\"Estonia\" in nordic_countries"
      ],
      "metadata": {
        "colab": {
          "base_uri": "https://localhost:8080/"
        },
        "id": "mUaxOoi7HPDi",
        "outputId": "d3a2e03c-c994-4361-9108-172f4cd48391"
      },
      "execution_count": 48,
      "outputs": [
        {
          "output_type": "execute_result",
          "data": {
            "text/plain": [
              "False"
            ]
          },
          "metadata": {},
          "execution_count": 48
        }
      ]
    },
    {
      "cell_type": "code",
      "source": [
        "'Finland' in nordic_countries"
      ],
      "metadata": {
        "colab": {
          "base_uri": "https://localhost:8080/"
        },
        "id": "FJanp-UXHVjQ",
        "outputId": "06e0f2c7-10f5-4c1c-cfaa-ce4f748d1a68"
      },
      "execution_count": 49,
      "outputs": [
        {
          "output_type": "execute_result",
          "data": {
            "text/plain": [
              "True"
            ]
          },
          "metadata": {},
          "execution_count": 49
        }
      ]
    },
    {
      "cell_type": "markdown",
      "source": [
        "## *Sets*\n",
        "\n",
        "## Set is a collection of unordered and un-indexed distinct elements. In Python set is used to store unique items, and it is possible to find the union, intersection, difference, symmetric difference, subset, super set and disjoint set among sets.\n",
        "\n"
      ],
      "metadata": {
        "id": "AZ1bYQ3gHzBL"
      }
    },
    {
      "cell_type": "markdown",
      "source": [
        "** items are unchangeable, but you can remove items and add new items **\n",
        "* sets are written in curly brackets\n"
      ],
      "metadata": {
        "id": "wyxKsNY2JQcC"
      }
    },
    {
      "cell_type": "code",
      "source": [
        "# items in a set do not have an order and can therefore appear in different order whenever printed\n",
        "\n",
        "lt = {'joe', 'jon', 'james', 'jones', 'jarmaine'}\n",
        "print(lt)"
      ],
      "metadata": {
        "id": "T_jldJZBH-9h",
        "outputId": "4fd96170-50a7-4332-c04a-5123fa025d47",
        "colab": {
          "base_uri": "https://localhost:8080/"
        }
      },
      "execution_count": 50,
      "outputs": [
        {
          "output_type": "stream",
          "name": "stdout",
          "text": [
            "{'jon', 'joe', 'jarmaine', 'james', 'jones'}\n"
          ]
        }
      ]
    },
    {
      "cell_type": "code",
      "source": [
        "# like lists, sets can be checked if an item exists\n",
        "'jon' in lt"
      ],
      "metadata": {
        "id": "oOiaqg2IKv40",
        "outputId": "149e4799-5e69-4a06-c575-6fbeee12f4ad",
        "colab": {
          "base_uri": "https://localhost:8080/"
        }
      },
      "execution_count": 53,
      "outputs": [
        {
          "output_type": "execute_result",
          "data": {
            "text/plain": [
              "True"
            ]
          },
          "metadata": {},
          "execution_count": 53
        }
      ]
    },
    {
      "cell_type": "code",
      "source": [
        "'jonas' in lt"
      ],
      "metadata": {
        "id": "e-qtYsSOK4UL",
        "outputId": "605bf67f-5483-45a1-b7c9-383004246575",
        "colab": {
          "base_uri": "https://localhost:8080/"
        }
      },
      "execution_count": 54,
      "outputs": [
        {
          "output_type": "execute_result",
          "data": {
            "text/plain": [
              "False"
            ]
          },
          "metadata": {},
          "execution_count": 54
        }
      ]
    }
  ]
}